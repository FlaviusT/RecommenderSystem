{
  "nbformat": 4,
  "nbformat_minor": 0,
  "metadata": {
    "colab": {
      "name": "Untitled0.ipynb",
      "provenance": [],
      "authorship_tag": "ABX9TyNOjgDg77Hf+9/8QSOgr//u",
      "include_colab_link": true
    },
    "kernelspec": {
      "name": "python3",
      "display_name": "Python 3"
    },
    "language_info": {
      "name": "python"
    }
  },
  "cells": [
    {
      "cell_type": "markdown",
      "metadata": {
        "id": "view-in-github",
        "colab_type": "text"
      },
      "source": [
        "<a href=\"https://colab.research.google.com/github/FlaviusT/RecommenderSystem/blob/master/Untitled0.ipynb\" target=\"_parent\"><img src=\"https://colab.research.google.com/assets/colab-badge.svg\" alt=\"Open In Colab\"/></a>"
      ]
    },
    {
      "cell_type": "markdown",
      "metadata": {
        "id": "eA2RloXmoUZq"
      },
      "source": [
        "# IMPORTS\n"
      ]
    },
    {
      "cell_type": "code",
      "metadata": {
        "id": "WYET2boToqOc"
      },
      "source": [
        "import pandas as pd\n",
        "import matplotlib.pyplot as plt\n",
        "import numpy as np"
      ],
      "execution_count": 1,
      "outputs": []
    },
    {
      "cell_type": "markdown",
      "metadata": {
        "id": "a0eGHd6robJr"
      },
      "source": [
        "# INITIALIZE DATA"
      ]
    },
    {
      "cell_type": "code",
      "metadata": {
        "id": "SZcFyDzKo13M"
      },
      "source": [
        "# Import movies\n",
        "movies = pd.read_csv('/content/datasets/movies.csv')\n",
        "\n",
        "# Import Ratings\n",
        "ratings = pd.read_csv('/content/datasets/ratings.csv')\n",
        "\n",
        "# Import users\n",
        "users = pd.read_csv('/content/datasets/users.csv')"
      ],
      "execution_count": 2,
      "outputs": []
    },
    {
      "cell_type": "markdown",
      "metadata": {
        "id": "vRC6GtY_oe-b"
      },
      "source": [
        "# MODEL-BASED ALGORITHMS"
      ]
    },
    {
      "cell_type": "markdown",
      "metadata": {
        "id": "aQdncCkhqKDL"
      },
      "source": [
        "# kNN"
      ]
    }
  ]
}