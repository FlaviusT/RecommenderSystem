{
  "nbformat": 4,
  "nbformat_minor": 0,
  "metadata": {
    "colab": {
      "name": "Untitled0.ipynb",
      "provenance": [],
      "collapsed_sections": [
        "eA2RloXmoUZq"
      ],
      "authorship_tag": "ABX9TyOu3AUbHUbzMmIPLpsETjWW",
      "include_colab_link": true
    },
    "kernelspec": {
      "name": "python3",
      "display_name": "Python 3"
    },
    "language_info": {
      "name": "python"
    }
  },
  "cells": [
    {
      "cell_type": "markdown",
      "metadata": {
        "id": "view-in-github",
        "colab_type": "text"
      },
      "source": [
        "<a href=\"https://colab.research.google.com/github/FlaviusT/RecommenderSystem/blob/master/Untitled0.ipynb\" target=\"_parent\"><img src=\"https://colab.research.google.com/assets/colab-badge.svg\" alt=\"Open In Colab\"/></a>"
      ]
    },
    {
      "cell_type": "markdown",
      "metadata": {
        "id": "eA2RloXmoUZq"
      },
      "source": [
        "# IMPORTS\n"
      ]
    },
    {
      "cell_type": "code",
      "metadata": {
        "colab": {
          "base_uri": "https://localhost:8080/"
        },
        "id": "WYET2boToqOc",
        "outputId": "f69fd442-d8e5-4727-9fcb-93479ed8a9bd"
      },
      "source": [
        "!pip install scipy\n",
        "import pandas as pd\n",
        "import matplotlib.pyplot as plt\n",
        "import numpy as np\n",
        "from sklearn.cluster import KMeans\n",
        "from scipy import spatial"
      ],
      "execution_count": 95,
      "outputs": [
        {
          "output_type": "stream",
          "text": [
            "Requirement already satisfied: scipy in /usr/local/lib/python3.7/dist-packages (1.4.1)\n",
            "Requirement already satisfied: numpy>=1.13.3 in /usr/local/lib/python3.7/dist-packages (from scipy) (1.19.5)\n"
          ],
          "name": "stdout"
        }
      ]
    },
    {
      "cell_type": "markdown",
      "metadata": {
        "id": "a0eGHd6robJr"
      },
      "source": [
        "# INITIALIZE DATA"
      ]
    },
    {
      "cell_type": "code",
      "metadata": {
        "id": "SZcFyDzKo13M"
      },
      "source": [
        "# Import movies\n",
        "movies = pd.read_csv('/content/datasets/movies.csv')\n",
        "\n",
        "# Import ratings\n",
        "ratings = pd.read_csv('/content/datasets/ratings.csv')\n",
        "\n",
        "# Import users\n",
        "users = pd.read_csv('/content/datasets/users.csv')"
      ],
      "execution_count": 96,
      "outputs": []
    },
    {
      "cell_type": "markdown",
      "metadata": {
        "id": "VTH10Z9eu3wZ"
      },
      "source": [
        "# Input data processing"
      ]
    },
    {
      "cell_type": "code",
      "metadata": {
        "colab": {
          "base_uri": "https://localhost:8080/"
        },
        "id": "eu_8H0ZmvDH6",
        "outputId": "d829a42e-0922-467f-e174-db94c7b27598"
      },
      "source": [
        "# As the genre of the movies are splitted by '|' sign, \n",
        "# here we will split them into different collumns\n",
        "\n",
        "# Get all genres from the CSV file\n",
        "def split_genres_from_Movie(movies):\n",
        "  genres = movies.genres\n",
        "  genres_list = list()\n",
        "\n",
        "  for genre in genres:\n",
        "    genres_list.append(genre.split('|'))\n",
        "\n",
        "  genres_dataframe = pd.DataFrame(genres_list)\n",
        "\n",
        "  # Remove duplicate genres to obtain all unique genres from the CSV file\n",
        "  unique_genres = genres_dataframe[0].unique()\n",
        "\n",
        "  # For each movie add all genres and value 0(the movie does not belong to that genre) \n",
        "  # or 1(where the genre is listed in the movie's genre list)\n",
        "  for unique_genre in unique_genres:\n",
        "      movies[unique_genre] = 0\n",
        "      movies.loc[movies['genres'].str.contains(unique_genre), unique_genre] = 1\n",
        "\n",
        "  # Now, there is no need for the 'genres' column anymore\n",
        "  movies = movies.drop(['genres'],axis =1)\n",
        "  \n",
        "  return movies\n",
        "\n",
        "def drop_movie_name(movies):\n",
        "  movies = movies.drop(['title'],axis =1)\n",
        "  return movies\n",
        "\n",
        "if('genres' in movies.columns):\n",
        "  movies = split_genres_from_Movie(movies)"
      ],
      "execution_count": 97,
      "outputs": [
        {
          "output_type": "stream",
          "text": [
            "/usr/local/lib/python3.7/dist-packages/pandas/core/strings.py:2001: UserWarning: This pattern has match groups. To actually get the groups, use str.extract.\n",
            "  return func(self, *args, **kwargs)\n"
          ],
          "name": "stderr"
        }
      ]
    },
    {
      "cell_type": "markdown",
      "metadata": {
        "id": "vRC6GtY_oe-b"
      },
      "source": [
        "# MODEL-BASED ALGORITHMS"
      ]
    },
    {
      "cell_type": "markdown",
      "metadata": {
        "id": "aQdncCkhqKDL"
      },
      "source": [
        "# -> kNN"
      ]
    },
    {
      "cell_type": "code",
      "metadata": {
        "id": "6PKKCYPdto68"
      },
      "source": [
        "# First, we need to compute the spacial distance between movies(2 dimensions, by rating and genres)\n",
        "def Similarity(movie1, movie2):    \n",
        "    genres_first_movie = movie1.iloc[4:]\n",
        "    genres_second_movie = movie2[4:]  \n",
        "    genre_distance = spatial.distance.cosine(genres_first_movie, genres_second_movie)\n",
        "    \n",
        "    rating_first_movie = movie1['rating']\n",
        "    rating_second_movie = movie2['rating']\n",
        "    rating_distance = spatial.distance.cosine(rating_first_movie, rating_second_movie)\n",
        "    \n",
        "    return genre_distance + rating_distance\n",
        "  \n",
        "def kNN(movies, ratings, fav_movie):\n",
        "  # Merge the ratings and movies dataframes into one dataframe\n",
        "  movies_ratings_merged = pd.merge(ratings, movies, how='outer', on='movieId')\n",
        "\n",
        "  # When we merge 2 dataframes, there may be null values in the userId and ratings columns\n",
        "  movies_ratings_merged.dropna(inplace= True)\n",
        "\n",
        "  # For kNN, we need only float values; As we have movieId, we can drop the movie name\n",
        "  movies_ratings_merged = drop_movie_name(movies_ratings_merged)\n"
      ],
      "execution_count": 100,
      "outputs": []
    },
    {
      "cell_type": "code",
      "metadata": {
        "colab": {
          "base_uri": "https://localhost:8080/"
        },
        "id": "VR_MTSgbNlDb",
        "outputId": "fc988bbb-e1d3-4a91-838b-2d9250ce96b8"
      },
      "source": [
        "movies_ratings_merged = pd.merge(ratings, movies, how='outer', on='movieId')\n",
        "print(Similarity(movies_ratings_merged.iloc[16], movies_ratings_merged.iloc[33]))\n",
        "\n",
        "genres_first_movie = movies_ratings_merged.iloc[1].iloc[4:]\n",
        "genres_second_movie = movies_ratings_merged.iloc[2]['rating'] \n",
        "\n",
        "print(genres_first_movie[:4])"
      ],
      "execution_count": 114,
      "outputs": [
        {
          "output_type": "stream",
          "text": [
            "nan\n",
            "Adventure    1\n",
            "Comedy       1\n",
            "Action       0\n",
            "Drama        0\n",
            "Name: 1, dtype: object\n"
          ],
          "name": "stdout"
        },
        {
          "output_type": "stream",
          "text": [
            "/usr/local/lib/python3.7/dist-packages/scipy/spatial/distance.py:720: RuntimeWarning: invalid value encountered in true_divide\n",
            "  dist = 1.0 - uv / np.sqrt(uu * vv)\n"
          ],
          "name": "stderr"
        }
      ]
    }
  ]
}