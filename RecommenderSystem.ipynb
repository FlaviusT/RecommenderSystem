{
  "nbformat": 4,
  "nbformat_minor": 0,
  "metadata": {
    "colab": {
      "name": "RecommenderSystem.ipynb",
      "provenance": [],
      "collapsed_sections": [
        "eA2RloXmoUZq"
      ],
      "toc_visible": true,
      "authorship_tag": "ABX9TyOoG/PbC1nhIiX/MTX3XAyD",
      "include_colab_link": true
    },
    "kernelspec": {
      "name": "python3",
      "display_name": "Python 3"
    },
    "language_info": {
      "name": "python"
    }
  },
  "cells": [
    {
      "cell_type": "markdown",
      "metadata": {
        "id": "view-in-github",
        "colab_type": "text"
      },
      "source": [
        "<a href=\"https://colab.research.google.com/github/FlaviusT/RecommenderSystem/blob/master/RecommenderSystem.ipynb\" target=\"_parent\"><img src=\"https://colab.research.google.com/assets/colab-badge.svg\" alt=\"Open In Colab\"/></a>"
      ]
    },
    {
      "cell_type": "markdown",
      "metadata": {
        "id": "eA2RloXmoUZq"
      },
      "source": [
        "# IMPORTS\n"
      ]
    },
    {
      "cell_type": "code",
      "metadata": {
        "colab": {
          "base_uri": "https://localhost:8080/"
        },
        "id": "WYET2boToqOc",
        "outputId": "b6e010bb-11ce-427c-967e-10ce40fea05f"
      },
      "source": [
        "!pip install scipy\n",
        "import pandas as pd\n",
        "import matplotlib.pyplot as plt\n",
        "import numpy as np\n",
        "import operator\n",
        "from sklearn.cluster import KMeans\n",
        "from scipy import spatial"
      ],
      "execution_count": 1,
      "outputs": [
        {
          "output_type": "stream",
          "text": [
            "Requirement already satisfied: scipy in /usr/local/lib/python3.7/dist-packages (1.4.1)\n",
            "Requirement already satisfied: numpy>=1.13.3 in /usr/local/lib/python3.7/dist-packages (from scipy) (1.19.5)\n"
          ],
          "name": "stdout"
        }
      ]
    },
    {
      "cell_type": "markdown",
      "metadata": {
        "id": "a0eGHd6robJr"
      },
      "source": [
        "# INITIALIZE DATA"
      ]
    },
    {
      "cell_type": "code",
      "metadata": {
        "id": "SZcFyDzKo13M"
      },
      "source": [
        "# Import movies\n",
        "movies = pd.read_csv('/content/datasets/movies.csv')\n",
        "\n",
        "# Import ratings\n",
        "ratings = pd.read_csv('/content/datasets/usersRatings.csv')\n",
        "\n",
        "# Import users\n",
        "users = pd.read_csv('/content/datasets/users.csv')"
      ],
      "execution_count": 2,
      "outputs": []
    },
    {
      "cell_type": "markdown",
      "metadata": {
        "id": "vRC6GtY_oe-b"
      },
      "source": [
        "# MODEL-BASED ALGORITHMS"
      ]
    },
    {
      "cell_type": "markdown",
      "metadata": {
        "id": "aQdncCkhqKDL"
      },
      "source": [
        "# -> kNN"
      ]
    },
    {
      "cell_type": "code",
      "metadata": {
        "id": "6PKKCYPdto68"
      },
      "source": [
        "def kNN(movies, movie_to_test, top_movies_number):\n",
        "  closest_movies = []\n",
        "  tmp_table = string_list_to_binary(movies)\n",
        "\n",
        "  for index, movie in tmp_table.iterrows():\n",
        "    if movie[0] != movie_to_test[0]:\n",
        "      distance = Similarity(movie_to_test, movie)\n",
        "      closest_movies.append(movie[0], distance)\n",
        "\n",
        "  del tmp_table\n",
        "\n",
        "  closest_movies.sort(key=operator.itemgetter(1))\n",
        "  neighbors = []\n",
        "    \n",
        "  for neighbour_counter in range(top_movies_number):\n",
        "      neighbors.append(closest_movies[neighbour_counter])\n",
        "\n",
        "  return neighbors\n",
        "\n",
        "# Compute the distance between movies(4 dimensions, by rating, genres, directors and cast)\n",
        "def Similarity(movie_to_test, movie2):\n",
        "    rating_first_movie = movie_to_test[2]\n",
        "    rating_second_movie = movie2[4]\n",
        "    rating_distance = spatial.distance.cosine(rating_first_movie, rating_second_movie)\n",
        "    \n",
        "    genres_first_movie = movie_to_test[3]\n",
        "    genres_second_movie = movie2[6]\n",
        "    genre_distance = spatial.distance.cosine(genres_first_movie, genres_second_movie)\n",
        "\n",
        "    cast_first_movie = movie_to_test[1]\n",
        "    cast_second_movie = movie2[3]\n",
        "    cast_distance = spatial.distance.cosine(cast_first_movie, cast_second_movie)\n",
        "    \n",
        "    return rating_distance + genre_distance + cast_distance\n",
        "\n",
        "# This function transforms a string of values(like genres, cast, etc)\n",
        "# into a list of binary values\n",
        "def string_list_to_binary(movies):\n",
        "  temp_movies_table = pd.DataFrame(columns = ['titleId','genres_binary', 'cast_binary'])\n",
        "\n",
        "  all_unique_genres = get_unique_values('genres')\n",
        "  all_unique_cast = get_unique_values('cast')\n",
        "\n",
        "  for index, movie in movies.iterrows():\n",
        "    temp_movies_table = temp_movies_table.append({'titleId':movie['titleId'], \n",
        "                                                  'genres_binary':create_binary_values(movie['genres'], all_unique_genres),  \n",
        "                                                  'cast_binary':create_binary_values(movie['cast'], all_unique_cast)}, ignore_index=True)\n",
        "  return temp_movies_table\n",
        "     \n",
        "# This method get all unique values of a column from CSV file\n",
        "def get_unique_values(column_name):\n",
        "  values = movies[column_name]\n",
        "  values_list = list()\n",
        "\n",
        "  for val in values:\n",
        "    values_list.append(val.split('|'))\n",
        "\n",
        "  values_dataframe = pd.DataFrame(values_list)\n",
        "\n",
        "  # Remove duplicate values to obtain all unique values from the CSV file\n",
        "  return values_dataframe[0].unique()\n",
        "\n",
        "def create_binary_values(values, unique_values):\n",
        "  all_values = values.split('|')\n",
        "  binaryList = []\n",
        "  \n",
        "  for val in unique_values:\n",
        "    if val in all_values:\n",
        "      binaryList.append(1)\n",
        "    else:\n",
        "      binaryList.append(0)\n",
        "\n",
        "  return binaryList"
      ],
      "execution_count": 3,
      "outputs": []
    },
    {
      "cell_type": "code",
      "metadata": {
        "id": "VR_MTSgbNlDb"
      },
      "source": [
        "dt = [[135328, 'Bruno Solo|Jean Louisa Kelly|Marta Ibanez Cruz|Javier Lago', 5.5, 'Action|Adventure|Comedy']]\n",
        "d = pd.DataFrame(dt, columns = ['titleId', 'cast', 'imdbscore', 'genres'])\n",
        "test_movie = string_list_to_binary(d).iloc[0]\n",
        "print(kNN(movies, test_movie, 10))"
      ],
      "execution_count": null,
      "outputs": []
    }
  ]
}