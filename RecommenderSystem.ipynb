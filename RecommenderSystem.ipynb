{
  "nbformat": 4,
  "nbformat_minor": 0,
  "metadata": {
    "colab": {
      "name": "RecommenderSystem.ipynb",
      "provenance": [],
      "collapsed_sections": [
        "eA2RloXmoUZq"
      ],
      "toc_visible": true,
      "authorship_tag": "ABX9TyM+7KO1JymEXouVLz9q/oSv",
      "include_colab_link": true
    },
    "kernelspec": {
      "name": "python3",
      "display_name": "Python 3"
    },
    "language_info": {
      "name": "python"
    }
  },
  "cells": [
    {
      "cell_type": "markdown",
      "metadata": {
        "id": "view-in-github",
        "colab_type": "text"
      },
      "source": [
        "<a href=\"https://colab.research.google.com/github/FlaviusT/RecommenderSystem/blob/master/RecommenderSystem.ipynb\" target=\"_parent\"><img src=\"https://colab.research.google.com/assets/colab-badge.svg\" alt=\"Open In Colab\"/></a>"
      ]
    },
    {
      "cell_type": "markdown",
      "metadata": {
        "id": "eA2RloXmoUZq"
      },
      "source": [
        "# IMPORTS\n"
      ]
    },
    {
      "cell_type": "code",
      "metadata": {
        "colab": {
          "base_uri": "https://localhost:8080/"
        },
        "id": "WYET2boToqOc",
        "outputId": "0769d402-ce74-4785-e2cb-07b3c53250b3"
      },
      "source": [
        "!pip install scipy\n",
        "import pandas as pd\n",
        "import matplotlib.pyplot as plt\n",
        "import numpy as np\n",
        "from sklearn.cluster import KMeans\n",
        "from scipy import spatial"
      ],
      "execution_count": 3,
      "outputs": [
        {
          "output_type": "stream",
          "text": [
            "Requirement already satisfied: scipy in /usr/local/lib/python3.7/dist-packages (1.4.1)\n",
            "Requirement already satisfied: numpy>=1.13.3 in /usr/local/lib/python3.7/dist-packages (from scipy) (1.19.5)\n"
          ],
          "name": "stdout"
        }
      ]
    },
    {
      "cell_type": "markdown",
      "metadata": {
        "id": "a0eGHd6robJr"
      },
      "source": [
        "# INITIALIZE DATA"
      ]
    },
    {
      "cell_type": "code",
      "metadata": {
        "id": "SZcFyDzKo13M"
      },
      "source": [
        "# Import movies\n",
        "movies = pd.read_csv('/content/datasets/movies.csv')\n",
        "\n",
        "# Import ratings\n",
        "ratings = pd.read_csv('/content/datasets/usersRatings.csv')\n",
        "\n",
        "# Import users\n",
        "users = pd.read_csv('/content/datasets/users.csv')"
      ],
      "execution_count": 7,
      "outputs": []
    },
    {
      "cell_type": "markdown",
      "metadata": {
        "id": "vRC6GtY_oe-b"
      },
      "source": [
        "# MODEL-BASED ALGORITHMS"
      ]
    },
    {
      "cell_type": "markdown",
      "metadata": {
        "id": "aQdncCkhqKDL"
      },
      "source": [
        "# -> kNN"
      ]
    },
    {
      "cell_type": "code",
      "metadata": {
        "id": "6PKKCYPdto68"
      },
      "source": [
        "def kNN(movies, movie_to_test, top_movies_number):\n",
        "  closest_movies = []\n",
        "\n",
        "  for index, movie in movies.iterrows():\n",
        "    if movie['titleId'] != movie_to_test['titleId']:\n",
        "      distance = Similarity(movie_to_test, movie)\n",
        "      closest_movies.append(movie['titleId'], distance)\n",
        "\n",
        "  closest_movies.sort(key=operator.itemgetter(1))\n",
        "  neighbors = []\n",
        "    \n",
        "  for neighbour_counter in range(top_movies_number):\n",
        "      neighbors.append(closest_movies[neighbour_counter])\n",
        "\n",
        "  return neighbors\n",
        "\n",
        "# Compute the distance between movies(4 dimensions, by rating, genres, directors and cast)\n",
        "def Similarity(movie1, movie2):\n",
        "    rating_first_movie = movie1['imdbscore']\n",
        "    rating_second_movie = movie2['imdbscore']\n",
        "    rating_distance = spatial.distance.cosine(rating_first_movie, rating_second_movie)\n",
        "    \n",
        "    genres_first_movie = movie1['genres_binary']\n",
        "    genres_second_movie = movie2['genres_binary']\n",
        "    genre_distance = spatial.distance.cosine(genres_first_movie, genres_second_movie)\n",
        "\n",
        "    directors_first_movie = movie1['directors_binary']\n",
        "    directors_second_movie = movie2['directors_binary']\n",
        "    directors_distance = spatial.distance.cosine(directors_first_movie, directors_second_movie)\n",
        "\n",
        "    cast_first_movie = movie1['cast_binary']\n",
        "    cast_second_movie = movie2['cast_binary']\n",
        "    cast_distance = spatial.distance.cosine(cast_first_movie, cast_second_movie)\n",
        "    \n",
        "    return rating_distance + genre_distance + directors_distance + cast_distance\n",
        "\n",
        "# This function transforms a string of values(like genres, cast, etc)\n",
        "# into a list of binary values\n",
        "def string_list_to_binary(movies):\n",
        "  temp_movies_table = movies\n",
        "  all_unique_genres = get_unique_values('genres')\n",
        "  all_unique_cast = get_unique_values('cast')\n",
        "  all_unique_directors = get_unique_values('director')\n",
        "\n",
        "  for index, movie in temp_movies_table.iterrows():\n",
        "    temp_movies_table['genres_binary'] = create_binary_values(movie['genres'], all_unique_genres)\n",
        "    temp_movies_table['directors_binary'] = create_binary_values(movie['director'], all_unique_directors)\n",
        "    temp_movies_table['cast_binary'] = create_binary_values(movie['cast'], all_unique_cast)\n",
        "\n",
        "  return temp_movies_table\n",
        "     \n",
        "# This method get all unique values of a column from CSV file\n",
        "def get_unique_values(column_name):\n",
        "  values = movies[column_name]\n",
        "  values_list = list()\n",
        "\n",
        "  for val in values:\n",
        "    values_list.append(val.split('|'))\n",
        "\n",
        "  values_dataframe = pd.DataFrame(values_list)\n",
        "\n",
        "  # Remove duplicate values to obtain all unique values from the CSV file\n",
        "  return values_dataframe[0].unique()\n",
        "\n",
        "def create_binary_values(values, unique_values):\n",
        "  all_values = val.split('|')\n",
        "  binaryList = []\n",
        "  \n",
        "  for genre in genreList:\n",
        "    if genre in all_values:\n",
        "      binaryList.append(1)\n",
        "    else:\n",
        "      binaryList.append(0)\n",
        "\n",
        "  return binaryList"
      ],
      "execution_count": 22,
      "outputs": []
    },
    {
      "cell_type": "code",
      "metadata": {
        "colab": {
          "base_uri": "https://localhost:8080/"
        },
        "id": "VR_MTSgbNlDb",
        "outputId": "a2799a92-d27d-4f37-912c-5319062d2259"
      },
      "source": [
        "d = {'a': 1, 'b': 2, 'c': 3}\n",
        "test_movie = pd.Series(data=d)\n",
        "print(kNN(movies, test_movie, 5))"
      ],
      "execution_count": 32,
      "outputs": [
        {
          "output_type": "stream",
          "text": [
            "a    1\n",
            "b    2\n",
            "c    3\n",
            "dtype: int64\n"
          ],
          "name": "stdout"
        }
      ]
    }
  ]
}