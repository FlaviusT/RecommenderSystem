{
 "cells": [
  {
   "cell_type": "code",
   "execution_count": 6,
   "id": "exceptional-registrar",
   "metadata": {},
   "outputs": [
    {
     "name": "stdout",
     "output_type": "stream",
     "text": [
      "Requirement already satisfied: pandas in /srv/conda/envs/notebook/lib/python3.7/site-packages (1.2.4)\n",
      "Requirement already satisfied: python-dateutil>=2.7.3 in /srv/conda/envs/notebook/lib/python3.7/site-packages (from pandas) (2.8.1)\n",
      "Requirement already satisfied: pytz>=2017.3 in /srv/conda/envs/notebook/lib/python3.7/site-packages (from pandas) (2021.1)\n",
      "Requirement already satisfied: numpy>=1.16.5 in /srv/conda/envs/notebook/lib/python3.7/site-packages (from pandas) (1.20.2)\n",
      "Requirement already satisfied: six>=1.5 in /srv/conda/envs/notebook/lib/python3.7/site-packages (from python-dateutil>=2.7.3->pandas) (1.15.0)\n",
      "Note: you may need to restart the kernel to use updated packages.\n"
     ]
    }
   ],
   "source": [
    "pip install pandas"
   ]
  },
  {
   "cell_type": "code",
   "execution_count": 15,
   "id": "prompt-ethiopia",
   "metadata": {
    "scrolled": true
   },
   "outputs": [],
   "source": [
    "import pandas as pd\n",
    "import numpy as np\n",
    "users = pd.read_csv('./users.csv')\n",
    "movies = pd.read_csv('./movies.csv')\n",
    "ratings = pd.read_csv('./ratings.csv')"
   ]
  },
  {
   "cell_type": "code",
   "execution_count": 24,
   "id": "freelance-liver",
   "metadata": {},
   "outputs": [],
   "source": [
    "ratings_matrix = ratings.pivot(index='userId',columns='movieId',values='rating')"
   ]
  },
  {
   "cell_type": "code",
   "execution_count": 25,
   "id": "trying-divide",
   "metadata": {},
   "outputs": [
    {
     "name": "stdout",
     "output_type": "stream",
     "text": [
      "movieId  1       2       3       4       5       6       7       8       \\\n",
      "userId                                                                    \n",
      "1           4.0     NaN     4.0     NaN     NaN     4.0     NaN     NaN   \n",
      "2           NaN     NaN     NaN     NaN     NaN     NaN     NaN     NaN   \n",
      "3           NaN     NaN     NaN     NaN     NaN     NaN     NaN     NaN   \n",
      "4           NaN     NaN     NaN     NaN     NaN     NaN     NaN     NaN   \n",
      "5           4.0     NaN     NaN     NaN     NaN     NaN     NaN     NaN   \n",
      "...         ...     ...     ...     ...     ...     ...     ...     ...   \n",
      "606         2.5     NaN     NaN     NaN     NaN     NaN     2.5     NaN   \n",
      "607         4.0     NaN     NaN     NaN     NaN     NaN     NaN     NaN   \n",
      "608         2.5     2.0     2.0     NaN     NaN     NaN     NaN     NaN   \n",
      "609         3.0     NaN     NaN     NaN     NaN     NaN     NaN     NaN   \n",
      "610         5.0     NaN     NaN     NaN     NaN     5.0     NaN     NaN   \n",
      "\n",
      "movieId  9       10      ...  193565  193567  193571  193573  193579  193581  \\\n",
      "userId                   ...                                                   \n",
      "1           NaN     NaN  ...     NaN     NaN     NaN     NaN     NaN     NaN   \n",
      "2           NaN     NaN  ...     NaN     NaN     NaN     NaN     NaN     NaN   \n",
      "3           NaN     NaN  ...     NaN     NaN     NaN     NaN     NaN     NaN   \n",
      "4           NaN     NaN  ...     NaN     NaN     NaN     NaN     NaN     NaN   \n",
      "5           NaN     NaN  ...     NaN     NaN     NaN     NaN     NaN     NaN   \n",
      "...         ...     ...  ...     ...     ...     ...     ...     ...     ...   \n",
      "606         NaN     NaN  ...     NaN     NaN     NaN     NaN     NaN     NaN   \n",
      "607         NaN     NaN  ...     NaN     NaN     NaN     NaN     NaN     NaN   \n",
      "608         NaN     4.0  ...     NaN     NaN     NaN     NaN     NaN     NaN   \n",
      "609         NaN     4.0  ...     NaN     NaN     NaN     NaN     NaN     NaN   \n",
      "610         NaN     NaN  ...     NaN     NaN     NaN     NaN     NaN     NaN   \n",
      "\n",
      "movieId  193583  193585  193587  193609  \n",
      "userId                                   \n",
      "1           NaN     NaN     NaN     NaN  \n",
      "2           NaN     NaN     NaN     NaN  \n",
      "3           NaN     NaN     NaN     NaN  \n",
      "4           NaN     NaN     NaN     NaN  \n",
      "5           NaN     NaN     NaN     NaN  \n",
      "...         ...     ...     ...     ...  \n",
      "606         NaN     NaN     NaN     NaN  \n",
      "607         NaN     NaN     NaN     NaN  \n",
      "608         NaN     NaN     NaN     NaN  \n",
      "609         NaN     NaN     NaN     NaN  \n",
      "610         NaN     NaN     NaN     NaN  \n",
      "\n",
      "[610 rows x 9724 columns]\n"
     ]
    }
   ],
   "source": [
    "print(ratings_matrix)"
   ]
  },
  {
   "cell_type": "code",
   "execution_count": null,
   "id": "offshore-oxford",
   "metadata": {},
   "outputs": [],
   "source": []
  }
 ],
 "metadata": {
  "kernelspec": {
   "display_name": "Python 3",
   "language": "python",
   "name": "python3"
  },
  "language_info": {
   "codemirror_mode": {
    "name": "ipython",
    "version": 3
   },
   "file_extension": ".py",
   "mimetype": "text/x-python",
   "name": "python",
   "nbconvert_exporter": "python",
   "pygments_lexer": "ipython3",
   "version": "3.7.10"
  }
 },
 "nbformat": 4,
 "nbformat_minor": 5
}
